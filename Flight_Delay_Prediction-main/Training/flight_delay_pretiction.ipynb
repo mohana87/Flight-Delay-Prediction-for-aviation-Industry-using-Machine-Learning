{
  "cells": [
    {
      "cell_type": "code",
      "execution_count": null,
      "metadata": {
        "id": "p5d_X0xo9QIi"
      },
      "outputs": [],
      "source": [
        "import pandas as pd\n",
        "import numpy as np\n",
        "import pickle \n",
        "import matplotlib.pyplot as plt\n",
        "%matplotlib inline\n",
        "import seaborn as sns\n",
        "import sklearn\n",
        "from sklearn.tree import DecisionTreeClassifier\n",
        "from sklearn.ensemble import GradientBoostingClassifier, RandomForestClassifier\n",
        "from sklearn.neighbors import KNeighborsClassifier\n",
        "from sklearn.model_selection import RandomizedSearchCV\n",
        "import imblearn\n",
        "from sklearn.model_selection import train_test_split\n",
        "from sklearn.preprocessing import StandardScaler\n",
        "from sklearn.metrics import accuracy_score, classification_report, confusion_matrix, f1_score"
      ]
    },
    {
      "cell_type": "code",
      "execution_count": null,
      "metadata": {
        "colab": {
          "base_uri": "https://localhost:8080/"
        },
        "id": "ejqWWLBFWsQS",
        "outputId": "057ad023-8c21-4a68-928f-5b35d6da73af"
      },
      "outputs": [
        {
          "output_type": "stream",
          "name": "stdout",
          "text": [
            "Drive already mounted at /content/drive; to attempt to forcibly remount, call drive.mount(\"/content/drive\", force_remount=True).\n"
          ]
        }
      ],
      "source": [
        "from google.colab import drive\n",
        "drive.mount('/content/drive')\n",
        "\n",
        "with open('/content/drive/My Drive/Colab Notebooks/flightdata.csv', 'r') as dsgd:\n",
        "  dataset = pd.read_csv(dsgd)"
      ]
    },
    {
      "cell_type": "code",
      "execution_count": null,
      "metadata": {
        "id": "H_RvsMHWXywC",
        "colab": {
          "base_uri": "https://localhost:8080/",
          "height": 409
        },
        "outputId": "609e58a7-739e-427e-bf6c-b68d4f54aeaf"
      },
      "outputs": [
        {
          "output_type": "error",
          "ename": "FileNotFoundError",
          "evalue": "ignored",
          "traceback": [
            "\u001b[0;31m---------------------------------------------------------------------------\u001b[0m",
            "\u001b[0;31mFileNotFoundError\u001b[0m                         Traceback (most recent call last)",
            "\u001b[0;32m<ipython-input-10-f9110927756e>\u001b[0m in \u001b[0;36m<cell line: 1>\u001b[0;34m()\u001b[0m\n\u001b[0;32m----> 1\u001b[0;31m \u001b[0mdataset\u001b[0m\u001b[0;34m=\u001b[0m \u001b[0mpd\u001b[0m\u001b[0;34m.\u001b[0m\u001b[0mread_csv\u001b[0m\u001b[0;34m(\u001b[0m\u001b[0;34m\"flightdata.csv\"\u001b[0m\u001b[0;34m)\u001b[0m\u001b[0;34m\u001b[0m\u001b[0;34m\u001b[0m\u001b[0m\n\u001b[0m\u001b[1;32m      2\u001b[0m \u001b[0mdataset\u001b[0m\u001b[0;34m.\u001b[0m\u001b[0mhead\u001b[0m\u001b[0;34m(\u001b[0m\u001b[0;34m)\u001b[0m\u001b[0;34m\u001b[0m\u001b[0;34m\u001b[0m\u001b[0m\n\u001b[1;32m      3\u001b[0m \u001b[0mdataset\u001b[0m\u001b[0;34m.\u001b[0m\u001b[0minfo\u001b[0m\u001b[0;34m(\u001b[0m\u001b[0;34m)\u001b[0m\u001b[0;34m\u001b[0m\u001b[0;34m\u001b[0m\u001b[0m\n\u001b[1;32m      4\u001b[0m \u001b[0mdataset\u001b[0m \u001b[0;34m=\u001b[0m \u001b[0mdataset\u001b[0m\u001b[0;34m.\u001b[0m\u001b[0mdrop\u001b[0m\u001b[0;34m(\u001b[0m\u001b[0;34m'Unnamed: 25'\u001b[0m\u001b[0;34m,\u001b[0m \u001b[0maxis\u001b[0m\u001b[0;34m=\u001b[0m\u001b[0;36m1\u001b[0m\u001b[0;34m)\u001b[0m\u001b[0;34m\u001b[0m\u001b[0;34m\u001b[0m\u001b[0m\n\u001b[1;32m      5\u001b[0m \u001b[0mdataset\u001b[0m\u001b[0;34m.\u001b[0m\u001b[0misnull\u001b[0m\u001b[0;34m(\u001b[0m\u001b[0;34m)\u001b[0m\u001b[0;34m.\u001b[0m\u001b[0msum\u001b[0m\u001b[0;34m(\u001b[0m\u001b[0;34m)\u001b[0m\u001b[0;34m\u001b[0m\u001b[0;34m\u001b[0m\u001b[0m\n",
            "\u001b[0;32m/usr/local/lib/python3.9/dist-packages/pandas/util/_decorators.py\u001b[0m in \u001b[0;36mwrapper\u001b[0;34m(*args, **kwargs)\u001b[0m\n\u001b[1;32m    209\u001b[0m                 \u001b[0;32melse\u001b[0m\u001b[0;34m:\u001b[0m\u001b[0;34m\u001b[0m\u001b[0;34m\u001b[0m\u001b[0m\n\u001b[1;32m    210\u001b[0m                     \u001b[0mkwargs\u001b[0m\u001b[0;34m[\u001b[0m\u001b[0mnew_arg_name\u001b[0m\u001b[0;34m]\u001b[0m \u001b[0;34m=\u001b[0m \u001b[0mnew_arg_value\u001b[0m\u001b[0;34m\u001b[0m\u001b[0;34m\u001b[0m\u001b[0m\n\u001b[0;32m--> 211\u001b[0;31m             \u001b[0;32mreturn\u001b[0m \u001b[0mfunc\u001b[0m\u001b[0;34m(\u001b[0m\u001b[0;34m*\u001b[0m\u001b[0margs\u001b[0m\u001b[0;34m,\u001b[0m \u001b[0;34m**\u001b[0m\u001b[0mkwargs\u001b[0m\u001b[0;34m)\u001b[0m\u001b[0;34m\u001b[0m\u001b[0;34m\u001b[0m\u001b[0m\n\u001b[0m\u001b[1;32m    212\u001b[0m \u001b[0;34m\u001b[0m\u001b[0m\n\u001b[1;32m    213\u001b[0m         \u001b[0;32mreturn\u001b[0m \u001b[0mcast\u001b[0m\u001b[0;34m(\u001b[0m\u001b[0mF\u001b[0m\u001b[0;34m,\u001b[0m \u001b[0mwrapper\u001b[0m\u001b[0;34m)\u001b[0m\u001b[0;34m\u001b[0m\u001b[0;34m\u001b[0m\u001b[0m\n",
            "\u001b[0;32m/usr/local/lib/python3.9/dist-packages/pandas/util/_decorators.py\u001b[0m in \u001b[0;36mwrapper\u001b[0;34m(*args, **kwargs)\u001b[0m\n\u001b[1;32m    329\u001b[0m                     \u001b[0mstacklevel\u001b[0m\u001b[0;34m=\u001b[0m\u001b[0mfind_stack_level\u001b[0m\u001b[0;34m(\u001b[0m\u001b[0;34m)\u001b[0m\u001b[0;34m,\u001b[0m\u001b[0;34m\u001b[0m\u001b[0;34m\u001b[0m\u001b[0m\n\u001b[1;32m    330\u001b[0m                 )\n\u001b[0;32m--> 331\u001b[0;31m             \u001b[0;32mreturn\u001b[0m \u001b[0mfunc\u001b[0m\u001b[0;34m(\u001b[0m\u001b[0;34m*\u001b[0m\u001b[0margs\u001b[0m\u001b[0;34m,\u001b[0m \u001b[0;34m**\u001b[0m\u001b[0mkwargs\u001b[0m\u001b[0;34m)\u001b[0m\u001b[0;34m\u001b[0m\u001b[0;34m\u001b[0m\u001b[0m\n\u001b[0m\u001b[1;32m    332\u001b[0m \u001b[0;34m\u001b[0m\u001b[0m\n\u001b[1;32m    333\u001b[0m         \u001b[0;31m# error: \"Callable[[VarArg(Any), KwArg(Any)], Any]\" has no\u001b[0m\u001b[0;34m\u001b[0m\u001b[0;34m\u001b[0m\u001b[0m\n",
            "\u001b[0;32m/usr/local/lib/python3.9/dist-packages/pandas/io/parsers/readers.py\u001b[0m in \u001b[0;36mread_csv\u001b[0;34m(filepath_or_buffer, sep, delimiter, header, names, index_col, usecols, squeeze, prefix, mangle_dupe_cols, dtype, engine, converters, true_values, false_values, skipinitialspace, skiprows, skipfooter, nrows, na_values, keep_default_na, na_filter, verbose, skip_blank_lines, parse_dates, infer_datetime_format, keep_date_col, date_parser, dayfirst, cache_dates, iterator, chunksize, compression, thousands, decimal, lineterminator, quotechar, quoting, doublequote, escapechar, comment, encoding, encoding_errors, dialect, error_bad_lines, warn_bad_lines, on_bad_lines, delim_whitespace, low_memory, memory_map, float_precision, storage_options)\u001b[0m\n\u001b[1;32m    948\u001b[0m     \u001b[0mkwds\u001b[0m\u001b[0;34m.\u001b[0m\u001b[0mupdate\u001b[0m\u001b[0;34m(\u001b[0m\u001b[0mkwds_defaults\u001b[0m\u001b[0;34m)\u001b[0m\u001b[0;34m\u001b[0m\u001b[0;34m\u001b[0m\u001b[0m\n\u001b[1;32m    949\u001b[0m \u001b[0;34m\u001b[0m\u001b[0m\n\u001b[0;32m--> 950\u001b[0;31m     \u001b[0;32mreturn\u001b[0m \u001b[0m_read\u001b[0m\u001b[0;34m(\u001b[0m\u001b[0mfilepath_or_buffer\u001b[0m\u001b[0;34m,\u001b[0m \u001b[0mkwds\u001b[0m\u001b[0;34m)\u001b[0m\u001b[0;34m\u001b[0m\u001b[0;34m\u001b[0m\u001b[0m\n\u001b[0m\u001b[1;32m    951\u001b[0m \u001b[0;34m\u001b[0m\u001b[0m\n\u001b[1;32m    952\u001b[0m \u001b[0;34m\u001b[0m\u001b[0m\n",
            "\u001b[0;32m/usr/local/lib/python3.9/dist-packages/pandas/io/parsers/readers.py\u001b[0m in \u001b[0;36m_read\u001b[0;34m(filepath_or_buffer, kwds)\u001b[0m\n\u001b[1;32m    603\u001b[0m \u001b[0;34m\u001b[0m\u001b[0m\n\u001b[1;32m    604\u001b[0m     \u001b[0;31m# Create the parser.\u001b[0m\u001b[0;34m\u001b[0m\u001b[0;34m\u001b[0m\u001b[0m\n\u001b[0;32m--> 605\u001b[0;31m     \u001b[0mparser\u001b[0m \u001b[0;34m=\u001b[0m \u001b[0mTextFileReader\u001b[0m\u001b[0;34m(\u001b[0m\u001b[0mfilepath_or_buffer\u001b[0m\u001b[0;34m,\u001b[0m \u001b[0;34m**\u001b[0m\u001b[0mkwds\u001b[0m\u001b[0;34m)\u001b[0m\u001b[0;34m\u001b[0m\u001b[0;34m\u001b[0m\u001b[0m\n\u001b[0m\u001b[1;32m    606\u001b[0m \u001b[0;34m\u001b[0m\u001b[0m\n\u001b[1;32m    607\u001b[0m     \u001b[0;32mif\u001b[0m \u001b[0mchunksize\u001b[0m \u001b[0;32mor\u001b[0m \u001b[0miterator\u001b[0m\u001b[0;34m:\u001b[0m\u001b[0;34m\u001b[0m\u001b[0;34m\u001b[0m\u001b[0m\n",
            "\u001b[0;32m/usr/local/lib/python3.9/dist-packages/pandas/io/parsers/readers.py\u001b[0m in \u001b[0;36m__init__\u001b[0;34m(self, f, engine, **kwds)\u001b[0m\n\u001b[1;32m   1440\u001b[0m \u001b[0;34m\u001b[0m\u001b[0m\n\u001b[1;32m   1441\u001b[0m         \u001b[0mself\u001b[0m\u001b[0;34m.\u001b[0m\u001b[0mhandles\u001b[0m\u001b[0;34m:\u001b[0m \u001b[0mIOHandles\u001b[0m \u001b[0;34m|\u001b[0m \u001b[0;32mNone\u001b[0m \u001b[0;34m=\u001b[0m \u001b[0;32mNone\u001b[0m\u001b[0;34m\u001b[0m\u001b[0;34m\u001b[0m\u001b[0m\n\u001b[0;32m-> 1442\u001b[0;31m         \u001b[0mself\u001b[0m\u001b[0;34m.\u001b[0m\u001b[0m_engine\u001b[0m \u001b[0;34m=\u001b[0m \u001b[0mself\u001b[0m\u001b[0;34m.\u001b[0m\u001b[0m_make_engine\u001b[0m\u001b[0;34m(\u001b[0m\u001b[0mf\u001b[0m\u001b[0;34m,\u001b[0m \u001b[0mself\u001b[0m\u001b[0;34m.\u001b[0m\u001b[0mengine\u001b[0m\u001b[0;34m)\u001b[0m\u001b[0;34m\u001b[0m\u001b[0;34m\u001b[0m\u001b[0m\n\u001b[0m\u001b[1;32m   1443\u001b[0m \u001b[0;34m\u001b[0m\u001b[0m\n\u001b[1;32m   1444\u001b[0m     \u001b[0;32mdef\u001b[0m \u001b[0mclose\u001b[0m\u001b[0;34m(\u001b[0m\u001b[0mself\u001b[0m\u001b[0;34m)\u001b[0m \u001b[0;34m->\u001b[0m \u001b[0;32mNone\u001b[0m\u001b[0;34m:\u001b[0m\u001b[0;34m\u001b[0m\u001b[0;34m\u001b[0m\u001b[0m\n",
            "\u001b[0;32m/usr/local/lib/python3.9/dist-packages/pandas/io/parsers/readers.py\u001b[0m in \u001b[0;36m_make_engine\u001b[0;34m(self, f, engine)\u001b[0m\n\u001b[1;32m   1733\u001b[0m                 \u001b[0;32mif\u001b[0m \u001b[0;34m\"b\"\u001b[0m \u001b[0;32mnot\u001b[0m \u001b[0;32min\u001b[0m \u001b[0mmode\u001b[0m\u001b[0;34m:\u001b[0m\u001b[0;34m\u001b[0m\u001b[0;34m\u001b[0m\u001b[0m\n\u001b[1;32m   1734\u001b[0m                     \u001b[0mmode\u001b[0m \u001b[0;34m+=\u001b[0m \u001b[0;34m\"b\"\u001b[0m\u001b[0;34m\u001b[0m\u001b[0;34m\u001b[0m\u001b[0m\n\u001b[0;32m-> 1735\u001b[0;31m             self.handles = get_handle(\n\u001b[0m\u001b[1;32m   1736\u001b[0m                 \u001b[0mf\u001b[0m\u001b[0;34m,\u001b[0m\u001b[0;34m\u001b[0m\u001b[0;34m\u001b[0m\u001b[0m\n\u001b[1;32m   1737\u001b[0m                 \u001b[0mmode\u001b[0m\u001b[0;34m,\u001b[0m\u001b[0;34m\u001b[0m\u001b[0;34m\u001b[0m\u001b[0m\n",
            "\u001b[0;32m/usr/local/lib/python3.9/dist-packages/pandas/io/common.py\u001b[0m in \u001b[0;36mget_handle\u001b[0;34m(path_or_buf, mode, encoding, compression, memory_map, is_text, errors, storage_options)\u001b[0m\n\u001b[1;32m    854\u001b[0m         \u001b[0;32mif\u001b[0m \u001b[0mioargs\u001b[0m\u001b[0;34m.\u001b[0m\u001b[0mencoding\u001b[0m \u001b[0;32mand\u001b[0m \u001b[0;34m\"b\"\u001b[0m \u001b[0;32mnot\u001b[0m \u001b[0;32min\u001b[0m \u001b[0mioargs\u001b[0m\u001b[0;34m.\u001b[0m\u001b[0mmode\u001b[0m\u001b[0;34m:\u001b[0m\u001b[0;34m\u001b[0m\u001b[0;34m\u001b[0m\u001b[0m\n\u001b[1;32m    855\u001b[0m             \u001b[0;31m# Encoding\u001b[0m\u001b[0;34m\u001b[0m\u001b[0;34m\u001b[0m\u001b[0m\n\u001b[0;32m--> 856\u001b[0;31m             handle = open(\n\u001b[0m\u001b[1;32m    857\u001b[0m                 \u001b[0mhandle\u001b[0m\u001b[0;34m,\u001b[0m\u001b[0;34m\u001b[0m\u001b[0;34m\u001b[0m\u001b[0m\n\u001b[1;32m    858\u001b[0m                 \u001b[0mioargs\u001b[0m\u001b[0;34m.\u001b[0m\u001b[0mmode\u001b[0m\u001b[0;34m,\u001b[0m\u001b[0;34m\u001b[0m\u001b[0;34m\u001b[0m\u001b[0m\n",
            "\u001b[0;31mFileNotFoundError\u001b[0m: [Errno 2] No such file or directory: 'flightdata.csv'"
          ]
        }
      ],
      "source": [
        "dataset= pd.read_csv(\"flightdata.csv\")\n",
        "dataset.head()\n",
        "dataset.info()\n",
        "dataset = dataset.drop('Unnamed: 25', axis=1)\n",
        "dataset.isnull().sum()\n",
        "dataset - dataset[[\"FL-NLM\", \"MONTH\", \"DAY-OF-MONTH\", \"DAY-OF-WEEK\", \"DRIGIN\", \"DEST\", \"CRS-ARR-TIME\", \"DEP-DELIS\", \"ARR-SELIS\"]]\n",
        "dataset.isnull().sum()\n",
        "dataset[dataset.isnull().any(axis-1)].head(10)\n",
        "dataset['DEP-DELIS'].mode()\n",
        "dataset - dataset.fillna({'ARR-DELIS': 1})\n",
        "dataset - dataset.fillna({'DEP-DELIS': 0})\n",
        "dataset.iloc[177:185]\n",
        "import math\n",
        "for index, row in dataset.iterrows():\n",
        "    dataset.loc[index,'CRS_ARR_TIME'] = math.floor(row['CRS_ARR_TIME'] / 100)\n",
        "dataset.head()\n",
        "from sklearn.preprocessing import LabelEncoder\n",
        "le = LabelEncoder()\n",
        "dataset['DEST'] = le.fit_transform(dataset['DEST'])\n",
        "dataset['ORIGIN'] = le.fit_transform(dataset['ORIGIN'])\n",
        "dataset.head(5)\n",
        "dataset['ORIGIN'].unique()\n",
        "from sklearn.preprocessing import OneHotEncoder\n",
        "oh = OneHotEncoder()\n",
        "z=oh.fit_transform(x[:,4:5]).toarray()\n",
        "t=oh.fit_transform(x[:,5:6]).toarray()\n",
        "x=np.delete(x,[4,5],axis=1)   "
      ]
    },
    {
      "cell_type": "code",
      "source": [
        "                                              "
      ],
      "metadata": {
        "id": "5W7QoFCif9M0"
      },
      "execution_count": null,
      "outputs": []
    },
    {
      "cell_type": "code",
      "source": [
        " from sklearn.tree import DecisionTreeClassifier\n",
        " classifier = DeccisionTreeClassifier(random_state = 0)\n",
        " classifier.fit(x_train,y_train)\n",
        " DecisionTreeClassifier(random_state=0)\n",
        "   decisiontree = classifier.predict(x_test)\n",
        "   from sklearn.metrics import accuracy_score\n",
        "   desacc = accuracy_scoe(y_test,decisiontree)\n",
        "   from sklearn.ensemble import RandomForestClassifier\n",
        "   rfc = RandomForestClassifier(n_estimators=10,criterion='entropy')\n",
        "   rfc.fit(x_train,y_train)\n",
        "   y_predict = rfc.predict(x_test)\n",
        "   import tensorflow\n",
        "   from tensorflow.keras.models import Sequential\n",
        "   from tensorflow.keras.layers import DecisionTreeClassifier\n",
        "   classification=sequential()\n",
        "   classification.add(Dense(30,activation='relu'))\n",
        "   classification.add(Dense(128,activation='relu'))\n",
        "   classification.add(Dense(64,activation='relu'))\n",
        "   classification.add(Dense(32,activation='sigmoid'))\n",
        "   classification.compile(optimizer='adam,loss='binary_crossentropy',metrics=['accuracy'])\n",
        "   clssification.fit(x_train,y_train,batch_size=4,validation_split=0.2,epochs=100)\n",
        "   y_pred = classifier.predict([[129,99,1,0,0,1,0,1,1,1,0,1,1,1,1,1]])\n",
        "              \n",
        "print(y_pred)\n",
        "(y_pred)\n",
        "y_pred = rfc.predict([[129,99,1,0,0,1,0,1,1,1,0,1,1,1,1,1,]])\n",
        "print(y_pred)\n",
        "(y_pred)\n",
        "classification.saver('flight.h5')\n",
        "y_pred = classification.predict(x_test)\n",
        "y_pred\n",
        "y_pred = (y_pred > 0.5)\n",
        "def predict_exit(sample_value):\n",
        "  sample_value = np.array(sample_value)\n",
        "  sample_value = sample_value.reshape(1,-1)\n",
        "  sample_value = sc.transform(sample_value)\n",
        "return classifier.predict(sample_value)\n",
        "test=classification.predict([[1,1,121.000000,36.0,0,0,1,0,1,1,1,1,1,1,1,1]])\n",
        "if test==1:\n",
        "  print('prediction: Chance ofdelay')\n",
        "else:\n",
        "print('pedicition: No chance of delay.')\n",
        "                          \n"
      ],
      "metadata": {
        "id": "W10n7A7NmVuw",
        "colab": {
          "base_uri": "https://localhost:8080/",
          "height": 134
        },
        "outputId": "7b306b1b-d619-48c4-9dc2-c1a28228562a"
      },
      "execution_count": null,
      "outputs": [
        {
          "output_type": "error",
          "ename": "IndentationError",
          "evalue": "ignored",
          "traceback": [
            "\u001b[0;36m  File \u001b[0;32m\"<ipython-input-17-65f84faf5ede>\"\u001b[0;36m, line \u001b[0;32m5\u001b[0m\n\u001b[0;31m    decisiontree = classifier.predict(x_test)\u001b[0m\n\u001b[0m    ^\u001b[0m\n\u001b[0;31mIndentationError\u001b[0m\u001b[0;31m:\u001b[0m unexpected indent\n"
          ]
        }
      ]
    },
    {
      "cell_type": "code",
      "source": [
        "from sklearn import model_selection\n",
        "from sklearn.neural_network import MLPClassifier\n",
        "dfs = []\n",
        "models = [\n",
        "          ('RF', RandoForestCLassifier()),\n",
        "          ('DecisionTree',DecisionTreeClassifier()),\n",
        "          ('ANN',MLPClassifier())\n",
        "         ]\n",
        "result = []\n",
        "names = []\n",
        "scoring =['accuracy', 'precision_weighted','recall_weighted', 'f1_weighted', 'roc_auc']\n",
        "target_names = ['no delay', 'delay']\n",
        "for name, model im model:\n",
        "   kfold = model_selection.Kfold(n_splits=5, shuffle=True, random_state=90210)\n",
        "   cv_results = model_selection.cross_validate(model, x_train, y_train, cv=kfold,scoring=scoring)\n",
        "   c1f = model.fit(x_train, y_train)\n",
        "   y_pred = c1f.predict(x_test)\n",
        "   print(name)\n",
        "   print(classification_report(y_test, y_pred, target_names=target_names))\n",
        "   results.append(cv_result)\n",
        "   names.append(name)\n",
        "   this_df = pd.DataFrame(cv_results)\n",
        "   this_df['model'] = name\n",
        "   dfs.append(this_df)\n",
        "   final = pd.concat(dfs,ignore_index=True)\n",
        "   return final\n",
        "   print('Training accuracy: ',accuracy_score(y_train,y_predict_train))\n",
        "   print('Testing accuracy: ',accuracy_score(y_test,y_predict))\n",
        "   from sklearn.metrics import confusion_matrix\n",
        "   cm = confusion_matrix(y_test, y_predict)\n",
        "\n",
        "from sklearn.metrics import accuracy_score\n",
        "desacc = accuracy_score(y_test,decisiontree)\n",
        "from sklearn.metrics import confusion_matrix\n",
        "cm = confusion_matrix(y_test,decisiontree)\n",
        "from sklearn.metrics import accuracy_score,classification_report\n",
        "score = accuracy_score(y_pred,y_test)\n",
        "print('The accuracy for ANN model is: {}%'.format(score*100))\n",
        "from sklearn.metrics import confusion_matrix\n",
        "cm = confusion_matrix(y_test, y_pred)\n",
        "\n",
        "parameter = {\n",
        "              'estimators' :[1,20,30,55,68,74,90,120,115],\n",
        "               'criterion' :['gini','entropy'],\n",
        "               'max_features' :[\"auto\", \"sqrt\", \"log2\"],\n",
        "        'max_depth' : [2,5,8,10], 'verbose' : [1,2,3,4,5,6,8,9,10]\n",
        "}\n",
        "RCV = RandomizedSearchCV(estimator=rf,param_distributions=parameters,cv=10,n_iter=4)\n",
        "RCV.fit(x_train,y_train)\n",
        "model = RandomForestClassifier(verbose= 10, n_estimators= 120,max_features= 'log2',max_depth= 10,criterion= 'entropy')\n",
        "RCV.fit(x_train,y_train)\n",
        "y_predict_rf = RCV.predict(x_test)\n",
        "RFC=accuracy_score(y_test,y_predict_rf)\n"
      ],
      "metadata": {
        "id": "DoZojo85pyOz",
        "colab": {
          "base_uri": "https://localhost:8080/",
          "height": 134
        },
        "outputId": "a2b1ff61-77cb-4002-aee7-f839b5c7eb60"
      },
      "execution_count": null,
      "outputs": [
        {
          "output_type": "error",
          "ename": "SyntaxError",
          "evalue": "ignored",
          "traceback": [
            "\u001b[0;36m  File \u001b[0;32m\"<ipython-input-14-ce4b2e671b4e>\"\u001b[0;36m, line \u001b[0;32m13\u001b[0m\n\u001b[0;31m    for name, model im model:\u001b[0m\n\u001b[0m                    ^\u001b[0m\n\u001b[0;31mSyntaxError\u001b[0m\u001b[0;31m:\u001b[0m invalid syntax\n"
          ]
        }
      ]
    },
    {
      "cell_type": "code",
      "source": [
        "import pckle\n",
        "#pickle.dump(RCV,open('flight.pk1','wb'))\n",
        "from flask import Flask,request,render_template\n",
        "import numpy as np\n",
        "import pandas as pd\n",
        "import pickle\n",
        "import os\n",
        "#model = pickle.loaid(open('flight.pk1','rb'))\n",
        "app = Flask(__name__)\n",
        "@app.route('/')\n",
        "def home():\n",
        "  return render_template(\"index.html\")\n",
        "\n",
        "  @app.route('/prediction',methods = ['POST'])\n",
        "  def predict():\n",
        "    name = request.form['name']\n",
        "    month = request.form['month']\n",
        "    dayofmonth = request.form['dayofmonth']\n",
        "    dayofweek = request.form['dayofweek']\n",
        "    origin = request.form['origin']\n",
        "    if(origin ==\"msp\"):\n",
        "        originl,origin2,origin3,origin4,origin5 = 0,0,0,0,1\n",
        "    if(origin ==\"dtw\"):\n",
        "        origin1,origin2,origin3,origin4,origin5 = 1,0,0,0,0\n",
        "    if(origin == \"jfk\"):\n",
        "        origin1,origin2,origin3,origin4,origin5 = 0,0,1,0,0\n",
        "    if(origin == \"sea\"):\n",
        "        origin1,origin2,origin3,origin4,origin5 = 0,1,0,0,0\n",
        "    if(origin == \"alt\"):\n",
        "        origin1,origin2,origin3,origin4,origin5 = 0,0,0,1,0 \n",
        "#destination = request.form['destination']\n",
        "#if(destination == \"msp\"):\n",
        "    destination1,destination2,destination3,destination4,destination5 = 0,0,0,0,1\n",
        "#if(destination == \"dtw\"):\n",
        "    destination1,destination2,destination3,destination4,destination5 = 1,0,0,0,0\n",
        "#if(destination == \"jfk\"):\n",
        "    destination1,destination2,destination3,distination4,destination5 = 0,0,1,0,0\n",
        "#if(destination == \"sea\"):\n",
        "    destination1,destination2,destination3,destination4,destination5 = 0,1,0,0,0\n",
        "#if(destination == \"alt\"):\n",
        "    destination1,destination2,destination3,destination4,destination5 = 0,0,0,1,0\n",
        "#dept = request.form['dept']\n",
        "#arrtime = request.form['arrtime']\n",
        "#actdept = request.form['actdept']\n",
        "#dept15=int(dept)-int(actdept)\n",
        "#total = [(name,month,dayofmonth,dayofweek,origina1,origin2,origin3,origin4,origin5,destination1,destination2,destination3,destination4,destination5)]\n",
        "#y_pred = model.predict(total)\n",
        "#print(y_pred)\n",
        "#if(y_pred==[0.]):\n",
        "  #ans=\"The Flight Will be on time\"\n",
        "#else:\n",
        "  #ans=\"The Flight Will be delayed\"\n",
        "  #return render_template(\"index.html\",showcase = ans)\n",
        "#if__name__=='__main__':\n",
        "  #app.run(debug = True)\n",
        "  \n"
      ],
      "metadata": {
        "id": "_ZDtZzuu4BcC"
      },
      "execution_count": null,
      "outputs": []
    }
  ],
  "metadata": {
    "colab": {
      "provenance": []
    },
    "kernelspec": {
      "display_name": "Python 3",
      "name": "python3"
    },
    "language_info": {
      "name": "python"
    }
  },
  "nbformat": 4,
  "nbformat_minor": 0
}